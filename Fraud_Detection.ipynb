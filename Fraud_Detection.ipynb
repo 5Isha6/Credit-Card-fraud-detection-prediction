{
  "nbformat": 4,
  "nbformat_minor": 0,
  "metadata": {
    "colab": {
      "provenance": []
    },
    "kernelspec": {
      "name": "python3",
      "display_name": "Python 3"
    },
    "language_info": {
      "name": "python"
    }
  },
  "cells": [
    {
      "cell_type": "code",
      "execution_count": 33,
      "metadata": {
        "id": "SWHYB6CPUyJQ"
      },
      "outputs": [],
      "source": [
        "import pandas as pd\n",
        "import numpy as np\n",
        "import matplotlib.pyplot as plt\n",
        "import seaborn as sns\n",
        "\n",
        "from xgboost import XGBClassifier\n",
        "from lightgbm import LGBMClassifier\n",
        "from sklearn.ensemble import AdaBoostClassifier\n",
        "from sklearn.svm import SVC\n",
        "\n",
        "from sklearn.preprocessing import StandardScaler\n",
        "from sklearn.preprocessing import LabelEncoder\n",
        "from sklearn.preprocessing import QuantileTransformer\n",
        "from sklearn.preprocessing import OrdinalEncoder\n",
        "from sklearn.model_selection import train_test_split\n",
        "\n",
        "from sklearn.metrics import roc_auc_score\n",
        "from sklearn.metrics import f1_score\n",
        "from sklearn.model_selection import cross_val_score\n",
        "from sklearn.metrics import classification_report\n",
        "from sklearn.metrics import confusion_matrix\n",
        "\n",
        "from imblearn.over_sampling import SMOTE\n",
        "from sklearn.preprocessing import StandardScaler\n",
        "from sklearn.model_selection import GridSearchCV\n",
        "\n",
        "import warnings\n",
        "warnings.filterwarnings(\"ignore\")"
      ]
    },
    {
      "cell_type": "markdown",
      "source": [
        "1.\tYou need to perform data analysis on the raw data and present with at least one data visualization.  \n",
        "•\tWhat insights can you derive from the raw data? \n",
        "•\tWhy is the project worthwhile? \n",
        "•\tWhat are the potential challenges you may be facing during the model development process?\n",
        "\n",
        "\n",
        "To perform data analysis on the raw data, I would start by reviewing the structure and content of the dataset, including the number of rows and columns, the data types, and any missing values. I would then use visualizations such as histograms, scatter plots, and heatmaps to explore the relationships between the variables and identify any patterns or anomalies in the data. From this analysis, I may be able to derive insights such as the distribution of transactions by amount and time, or the correlation between different variables and the target variable (fraud or not fraud). I would also evaluate the balance of the target variable to assess whether there is a class imbalance that may need to be addressed during model development.\n",
        "The project is worthwhile because detecting frauds can save the company significant amounts of money, as well as help to protect its customers and reputation.\n",
        "Potential challenges may include dealing with imbalanced data, dealing with highly correlated features, and dealing with high dimensionality."
      ],
      "metadata": {
        "id": "E6hCMSIAdT0S"
      }
    },
    {
      "cell_type": "code",
      "source": [
        "data_raw = pd.read_csv(\"sample_transaction_data.csv\")"
      ],
      "metadata": {
        "id": "zplw8NfWVM73"
      },
      "execution_count": 34,
      "outputs": []
    },
    {
      "cell_type": "code",
      "source": [
        "data_raw.head()"
      ],
      "metadata": {
        "colab": {
          "base_uri": "https://localhost:8080/",
          "height": 404
        },
        "id": "x7X0H4GOVxr6",
        "outputId": "1df2ca3b-9896-4c37-f437-df29bbcea1b0"
      },
      "execution_count": 35,
      "outputs": [
        {
          "output_type": "execute_result",
          "data": {
            "text/plain": [
              "  transaction_id  targets transaction_date account_open_date  \\\n",
              "0    TRX00000000        1       2021-10-03        2021-06-28   \n",
              "1    TRX00000001        0       2021-10-03        2021-05-16   \n",
              "2    TRX00000002        0       2021-10-03        2021-04-19   \n",
              "3    TRX00000003        0       2021-10-03        2021-04-13   \n",
              "4    TRX00000004        0       2021-10-03        2021-03-15   \n",
              "\n",
              "   transaction_amount                 beneficiary  col_0  col_1 col_2  col_3  \\\n",
              "0        52092.586207          Manny's Auto Parts    0.0  False  25.0      0   \n",
              "1        50042.970326          Zach's Agriculture    0.0  False  25.0      0   \n",
              "2        54255.114574  Fiona's Technical Services    0.0  False  25.0      0   \n",
              "3        61722.527737            Omar's Exteriors    0.0   True  25.0      0   \n",
              "4        54313.312765           Steve's Utilities    0.0   True  25.0      0   \n",
              "\n",
              "   ...  col_106  col_107  col_108 col_109  col_110  col_111  col_112  col_113  \\\n",
              "0  ...        0        1    False       0        0     True      0.0      0.0   \n",
              "1  ...        0        1    False       0        0    False      NaN      0.0   \n",
              "2  ...        0        1    False       0        0    False      NaN      0.0   \n",
              "3  ...        0        1    False       0        0    False      1.0      0.0   \n",
              "4  ...       98        1    False      14        0    False      NaN      0.0   \n",
              "\n",
              "   col_114  col_115  \n",
              "0        0      0.0  \n",
              "1        0      0.0  \n",
              "2        0      NaN  \n",
              "3        0      NaN  \n",
              "4        0     29.0  \n",
              "\n",
              "[5 rows x 122 columns]"
            ],
            "text/html": [
              "\n",
              "  <div id=\"df-21c307a2-f3f7-47d3-9012-739a0b94131d\">\n",
              "    <div class=\"colab-df-container\">\n",
              "      <div>\n",
              "<style scoped>\n",
              "    .dataframe tbody tr th:only-of-type {\n",
              "        vertical-align: middle;\n",
              "    }\n",
              "\n",
              "    .dataframe tbody tr th {\n",
              "        vertical-align: top;\n",
              "    }\n",
              "\n",
              "    .dataframe thead th {\n",
              "        text-align: right;\n",
              "    }\n",
              "</style>\n",
              "<table border=\"1\" class=\"dataframe\">\n",
              "  <thead>\n",
              "    <tr style=\"text-align: right;\">\n",
              "      <th></th>\n",
              "      <th>transaction_id</th>\n",
              "      <th>targets</th>\n",
              "      <th>transaction_date</th>\n",
              "      <th>account_open_date</th>\n",
              "      <th>transaction_amount</th>\n",
              "      <th>beneficiary</th>\n",
              "      <th>col_0</th>\n",
              "      <th>col_1</th>\n",
              "      <th>col_2</th>\n",
              "      <th>col_3</th>\n",
              "      <th>...</th>\n",
              "      <th>col_106</th>\n",
              "      <th>col_107</th>\n",
              "      <th>col_108</th>\n",
              "      <th>col_109</th>\n",
              "      <th>col_110</th>\n",
              "      <th>col_111</th>\n",
              "      <th>col_112</th>\n",
              "      <th>col_113</th>\n",
              "      <th>col_114</th>\n",
              "      <th>col_115</th>\n",
              "    </tr>\n",
              "  </thead>\n",
              "  <tbody>\n",
              "    <tr>\n",
              "      <th>0</th>\n",
              "      <td>TRX00000000</td>\n",
              "      <td>1</td>\n",
              "      <td>2021-10-03</td>\n",
              "      <td>2021-06-28</td>\n",
              "      <td>52092.586207</td>\n",
              "      <td>Manny's Auto Parts</td>\n",
              "      <td>0.0</td>\n",
              "      <td>False</td>\n",
              "      <td>25.0</td>\n",
              "      <td>0</td>\n",
              "      <td>...</td>\n",
              "      <td>0</td>\n",
              "      <td>1</td>\n",
              "      <td>False</td>\n",
              "      <td>0</td>\n",
              "      <td>0</td>\n",
              "      <td>True</td>\n",
              "      <td>0.0</td>\n",
              "      <td>0.0</td>\n",
              "      <td>0</td>\n",
              "      <td>0.0</td>\n",
              "    </tr>\n",
              "    <tr>\n",
              "      <th>1</th>\n",
              "      <td>TRX00000001</td>\n",
              "      <td>0</td>\n",
              "      <td>2021-10-03</td>\n",
              "      <td>2021-05-16</td>\n",
              "      <td>50042.970326</td>\n",
              "      <td>Zach's Agriculture</td>\n",
              "      <td>0.0</td>\n",
              "      <td>False</td>\n",
              "      <td>25.0</td>\n",
              "      <td>0</td>\n",
              "      <td>...</td>\n",
              "      <td>0</td>\n",
              "      <td>1</td>\n",
              "      <td>False</td>\n",
              "      <td>0</td>\n",
              "      <td>0</td>\n",
              "      <td>False</td>\n",
              "      <td>NaN</td>\n",
              "      <td>0.0</td>\n",
              "      <td>0</td>\n",
              "      <td>0.0</td>\n",
              "    </tr>\n",
              "    <tr>\n",
              "      <th>2</th>\n",
              "      <td>TRX00000002</td>\n",
              "      <td>0</td>\n",
              "      <td>2021-10-03</td>\n",
              "      <td>2021-04-19</td>\n",
              "      <td>54255.114574</td>\n",
              "      <td>Fiona's Technical Services</td>\n",
              "      <td>0.0</td>\n",
              "      <td>False</td>\n",
              "      <td>25.0</td>\n",
              "      <td>0</td>\n",
              "      <td>...</td>\n",
              "      <td>0</td>\n",
              "      <td>1</td>\n",
              "      <td>False</td>\n",
              "      <td>0</td>\n",
              "      <td>0</td>\n",
              "      <td>False</td>\n",
              "      <td>NaN</td>\n",
              "      <td>0.0</td>\n",
              "      <td>0</td>\n",
              "      <td>NaN</td>\n",
              "    </tr>\n",
              "    <tr>\n",
              "      <th>3</th>\n",
              "      <td>TRX00000003</td>\n",
              "      <td>0</td>\n",
              "      <td>2021-10-03</td>\n",
              "      <td>2021-04-13</td>\n",
              "      <td>61722.527737</td>\n",
              "      <td>Omar's Exteriors</td>\n",
              "      <td>0.0</td>\n",
              "      <td>True</td>\n",
              "      <td>25.0</td>\n",
              "      <td>0</td>\n",
              "      <td>...</td>\n",
              "      <td>0</td>\n",
              "      <td>1</td>\n",
              "      <td>False</td>\n",
              "      <td>0</td>\n",
              "      <td>0</td>\n",
              "      <td>False</td>\n",
              "      <td>1.0</td>\n",
              "      <td>0.0</td>\n",
              "      <td>0</td>\n",
              "      <td>NaN</td>\n",
              "    </tr>\n",
              "    <tr>\n",
              "      <th>4</th>\n",
              "      <td>TRX00000004</td>\n",
              "      <td>0</td>\n",
              "      <td>2021-10-03</td>\n",
              "      <td>2021-03-15</td>\n",
              "      <td>54313.312765</td>\n",
              "      <td>Steve's Utilities</td>\n",
              "      <td>0.0</td>\n",
              "      <td>True</td>\n",
              "      <td>25.0</td>\n",
              "      <td>0</td>\n",
              "      <td>...</td>\n",
              "      <td>98</td>\n",
              "      <td>1</td>\n",
              "      <td>False</td>\n",
              "      <td>14</td>\n",
              "      <td>0</td>\n",
              "      <td>False</td>\n",
              "      <td>NaN</td>\n",
              "      <td>0.0</td>\n",
              "      <td>0</td>\n",
              "      <td>29.0</td>\n",
              "    </tr>\n",
              "  </tbody>\n",
              "</table>\n",
              "<p>5 rows × 122 columns</p>\n",
              "</div>\n",
              "      <button class=\"colab-df-convert\" onclick=\"convertToInteractive('df-21c307a2-f3f7-47d3-9012-739a0b94131d')\"\n",
              "              title=\"Convert this dataframe to an interactive table.\"\n",
              "              style=\"display:none;\">\n",
              "        \n",
              "  <svg xmlns=\"http://www.w3.org/2000/svg\" height=\"24px\"viewBox=\"0 0 24 24\"\n",
              "       width=\"24px\">\n",
              "    <path d=\"M0 0h24v24H0V0z\" fill=\"none\"/>\n",
              "    <path d=\"M18.56 5.44l.94 2.06.94-2.06 2.06-.94-2.06-.94-.94-2.06-.94 2.06-2.06.94zm-11 1L8.5 8.5l.94-2.06 2.06-.94-2.06-.94L8.5 2.5l-.94 2.06-2.06.94zm10 10l.94 2.06.94-2.06 2.06-.94-2.06-.94-.94-2.06-.94 2.06-2.06.94z\"/><path d=\"M17.41 7.96l-1.37-1.37c-.4-.4-.92-.59-1.43-.59-.52 0-1.04.2-1.43.59L10.3 9.45l-7.72 7.72c-.78.78-.78 2.05 0 2.83L4 21.41c.39.39.9.59 1.41.59.51 0 1.02-.2 1.41-.59l7.78-7.78 2.81-2.81c.8-.78.8-2.07 0-2.86zM5.41 20L4 18.59l7.72-7.72 1.47 1.35L5.41 20z\"/>\n",
              "  </svg>\n",
              "      </button>\n",
              "      \n",
              "  <style>\n",
              "    .colab-df-container {\n",
              "      display:flex;\n",
              "      flex-wrap:wrap;\n",
              "      gap: 12px;\n",
              "    }\n",
              "\n",
              "    .colab-df-convert {\n",
              "      background-color: #E8F0FE;\n",
              "      border: none;\n",
              "      border-radius: 50%;\n",
              "      cursor: pointer;\n",
              "      display: none;\n",
              "      fill: #1967D2;\n",
              "      height: 32px;\n",
              "      padding: 0 0 0 0;\n",
              "      width: 32px;\n",
              "    }\n",
              "\n",
              "    .colab-df-convert:hover {\n",
              "      background-color: #E2EBFA;\n",
              "      box-shadow: 0px 1px 2px rgba(60, 64, 67, 0.3), 0px 1px 3px 1px rgba(60, 64, 67, 0.15);\n",
              "      fill: #174EA6;\n",
              "    }\n",
              "\n",
              "    [theme=dark] .colab-df-convert {\n",
              "      background-color: #3B4455;\n",
              "      fill: #D2E3FC;\n",
              "    }\n",
              "\n",
              "    [theme=dark] .colab-df-convert:hover {\n",
              "      background-color: #434B5C;\n",
              "      box-shadow: 0px 1px 3px 1px rgba(0, 0, 0, 0.15);\n",
              "      filter: drop-shadow(0px 1px 2px rgba(0, 0, 0, 0.3));\n",
              "      fill: #FFFFFF;\n",
              "    }\n",
              "  </style>\n",
              "\n",
              "      <script>\n",
              "        const buttonEl =\n",
              "          document.querySelector('#df-21c307a2-f3f7-47d3-9012-739a0b94131d button.colab-df-convert');\n",
              "        buttonEl.style.display =\n",
              "          google.colab.kernel.accessAllowed ? 'block' : 'none';\n",
              "\n",
              "        async function convertToInteractive(key) {\n",
              "          const element = document.querySelector('#df-21c307a2-f3f7-47d3-9012-739a0b94131d');\n",
              "          const dataTable =\n",
              "            await google.colab.kernel.invokeFunction('convertToInteractive',\n",
              "                                                     [key], {});\n",
              "          if (!dataTable) return;\n",
              "\n",
              "          const docLinkHtml = 'Like what you see? Visit the ' +\n",
              "            '<a target=\"_blank\" href=https://colab.research.google.com/notebooks/data_table.ipynb>data table notebook</a>'\n",
              "            + ' to learn more about interactive tables.';\n",
              "          element.innerHTML = '';\n",
              "          dataTable['output_type'] = 'display_data';\n",
              "          await google.colab.output.renderOutput(dataTable, element);\n",
              "          const docLink = document.createElement('div');\n",
              "          docLink.innerHTML = docLinkHtml;\n",
              "          element.appendChild(docLink);\n",
              "        }\n",
              "      </script>\n",
              "    </div>\n",
              "  </div>\n",
              "  "
            ]
          },
          "metadata": {},
          "execution_count": 35
        }
      ]
    },
    {
      "cell_type": "code",
      "source": [
        "data_raw.info()"
      ],
      "metadata": {
        "colab": {
          "base_uri": "https://localhost:8080/"
        },
        "id": "V2tbfZOuV32I",
        "outputId": "9b85318f-2789-46b6-9631-aecdf231a3be"
      },
      "execution_count": 36,
      "outputs": [
        {
          "output_type": "stream",
          "name": "stdout",
          "text": [
            "<class 'pandas.core.frame.DataFrame'>\n",
            "RangeIndex: 15781 entries, 0 to 15780\n",
            "Columns: 122 entries, transaction_id to col_115\n",
            "dtypes: bool(33), float64(26), int64(54), object(9)\n",
            "memory usage: 11.2+ MB\n"
          ]
        }
      ]
    },
    {
      "cell_type": "code",
      "source": [
        "data_raw.describe()"
      ],
      "metadata": {
        "colab": {
          "base_uri": "https://localhost:8080/",
          "height": 394
        },
        "id": "U2nVlQWJV-Yn",
        "outputId": "685e714e-4771-477a-b967-cf60068785d0"
      },
      "execution_count": 37,
      "outputs": [
        {
          "output_type": "execute_result",
          "data": {
            "text/plain": [
              "            targets  transaction_amount         col_0         col_3  \\\n",
              "count  15781.000000        1.578100e+04  12186.000000  15781.000000   \n",
              "mean       0.047589        1.101420e+05      0.004185      0.266967   \n",
              "std        0.212901        3.396154e+05      0.064560      1.858497   \n",
              "min        0.000000        5.000317e+04      0.000000      0.000000   \n",
              "25%        0.000000        5.213120e+04      0.000000      0.000000   \n",
              "50%        0.000000        5.812264e+04      0.000000      0.000000   \n",
              "75%        0.000000        8.108830e+04      0.000000      0.000000   \n",
              "max        1.000000        2.089189e+07      1.000000    117.000000   \n",
              "\n",
              "              col_4         col_8         col_9        col_10   col_13  \\\n",
              "count  15781.000000  15781.000000  10898.000000  15781.000000  15781.0   \n",
              "mean       2.487358      0.669413     17.052028    334.344718      0.0   \n",
              "std       47.191492     20.223097    180.610973    728.378619      0.0   \n",
              "min        0.000000      0.000000      0.000000      0.000000      0.0   \n",
              "25%        0.000000      0.000000      0.000000     43.000000      0.0   \n",
              "50%        0.000000      0.000000      0.000000    123.000000      0.0   \n",
              "75%        0.000000      0.000000      7.000000    334.000000      0.0   \n",
              "max     5054.000000   2441.000000  13567.000000  25927.000000      0.0   \n",
              "\n",
              "            col_14  ...      col_104       col_105       col_106  \\\n",
              "count  9740.000000  ...  5485.000000  15781.000000  15781.000000   \n",
              "mean      0.027002  ...     0.015314      0.377733      9.180153   \n",
              "std       0.162098  ...     0.122812      4.114176    112.744071   \n",
              "min       0.000000  ...     0.000000      0.000000      0.000000   \n",
              "25%       0.000000  ...     0.000000      0.000000      0.000000   \n",
              "50%       0.000000  ...     0.000000      0.000000      0.000000   \n",
              "75%       0.000000  ...     0.000000      0.000000      1.000000   \n",
              "max       1.000000  ...     1.000000    297.000000   9789.000000   \n",
              "\n",
              "            col_107       col_109       col_110      col_112  col_113  \\\n",
              "count  15781.000000  15781.000000  15781.000000  2150.000000  10438.0   \n",
              "mean       0.999937      9.205120      1.112287     0.006512      0.0   \n",
              "std        0.007960     75.953666      5.382758     0.080450      0.0   \n",
              "min        0.000000      0.000000      0.000000     0.000000      0.0   \n",
              "25%        1.000000      0.000000      0.000000     0.000000      0.0   \n",
              "50%        1.000000      0.000000      0.000000     0.000000      0.0   \n",
              "75%        1.000000      0.000000      0.000000     0.000000      0.0   \n",
              "max        1.000000   4924.000000    202.000000     1.000000      0.0   \n",
              "\n",
              "            col_114       col_115  \n",
              "count  15781.000000  11437.000000  \n",
              "mean       0.010392      7.206610  \n",
              "std        0.833864     24.631301  \n",
              "min        0.000000      0.000000  \n",
              "25%        0.000000      0.000000  \n",
              "50%        0.000000      0.000000  \n",
              "75%        0.000000      5.000000  \n",
              "max      102.000000    973.000000  \n",
              "\n",
              "[8 rows x 80 columns]"
            ],
            "text/html": [
              "\n",
              "  <div id=\"df-272bb70a-d552-4a5a-84b3-b4c5b8477d9e\">\n",
              "    <div class=\"colab-df-container\">\n",
              "      <div>\n",
              "<style scoped>\n",
              "    .dataframe tbody tr th:only-of-type {\n",
              "        vertical-align: middle;\n",
              "    }\n",
              "\n",
              "    .dataframe tbody tr th {\n",
              "        vertical-align: top;\n",
              "    }\n",
              "\n",
              "    .dataframe thead th {\n",
              "        text-align: right;\n",
              "    }\n",
              "</style>\n",
              "<table border=\"1\" class=\"dataframe\">\n",
              "  <thead>\n",
              "    <tr style=\"text-align: right;\">\n",
              "      <th></th>\n",
              "      <th>targets</th>\n",
              "      <th>transaction_amount</th>\n",
              "      <th>col_0</th>\n",
              "      <th>col_3</th>\n",
              "      <th>col_4</th>\n",
              "      <th>col_8</th>\n",
              "      <th>col_9</th>\n",
              "      <th>col_10</th>\n",
              "      <th>col_13</th>\n",
              "      <th>col_14</th>\n",
              "      <th>...</th>\n",
              "      <th>col_104</th>\n",
              "      <th>col_105</th>\n",
              "      <th>col_106</th>\n",
              "      <th>col_107</th>\n",
              "      <th>col_109</th>\n",
              "      <th>col_110</th>\n",
              "      <th>col_112</th>\n",
              "      <th>col_113</th>\n",
              "      <th>col_114</th>\n",
              "      <th>col_115</th>\n",
              "    </tr>\n",
              "  </thead>\n",
              "  <tbody>\n",
              "    <tr>\n",
              "      <th>count</th>\n",
              "      <td>15781.000000</td>\n",
              "      <td>1.578100e+04</td>\n",
              "      <td>12186.000000</td>\n",
              "      <td>15781.000000</td>\n",
              "      <td>15781.000000</td>\n",
              "      <td>15781.000000</td>\n",
              "      <td>10898.000000</td>\n",
              "      <td>15781.000000</td>\n",
              "      <td>15781.0</td>\n",
              "      <td>9740.000000</td>\n",
              "      <td>...</td>\n",
              "      <td>5485.000000</td>\n",
              "      <td>15781.000000</td>\n",
              "      <td>15781.000000</td>\n",
              "      <td>15781.000000</td>\n",
              "      <td>15781.000000</td>\n",
              "      <td>15781.000000</td>\n",
              "      <td>2150.000000</td>\n",
              "      <td>10438.0</td>\n",
              "      <td>15781.000000</td>\n",
              "      <td>11437.000000</td>\n",
              "    </tr>\n",
              "    <tr>\n",
              "      <th>mean</th>\n",
              "      <td>0.047589</td>\n",
              "      <td>1.101420e+05</td>\n",
              "      <td>0.004185</td>\n",
              "      <td>0.266967</td>\n",
              "      <td>2.487358</td>\n",
              "      <td>0.669413</td>\n",
              "      <td>17.052028</td>\n",
              "      <td>334.344718</td>\n",
              "      <td>0.0</td>\n",
              "      <td>0.027002</td>\n",
              "      <td>...</td>\n",
              "      <td>0.015314</td>\n",
              "      <td>0.377733</td>\n",
              "      <td>9.180153</td>\n",
              "      <td>0.999937</td>\n",
              "      <td>9.205120</td>\n",
              "      <td>1.112287</td>\n",
              "      <td>0.006512</td>\n",
              "      <td>0.0</td>\n",
              "      <td>0.010392</td>\n",
              "      <td>7.206610</td>\n",
              "    </tr>\n",
              "    <tr>\n",
              "      <th>std</th>\n",
              "      <td>0.212901</td>\n",
              "      <td>3.396154e+05</td>\n",
              "      <td>0.064560</td>\n",
              "      <td>1.858497</td>\n",
              "      <td>47.191492</td>\n",
              "      <td>20.223097</td>\n",
              "      <td>180.610973</td>\n",
              "      <td>728.378619</td>\n",
              "      <td>0.0</td>\n",
              "      <td>0.162098</td>\n",
              "      <td>...</td>\n",
              "      <td>0.122812</td>\n",
              "      <td>4.114176</td>\n",
              "      <td>112.744071</td>\n",
              "      <td>0.007960</td>\n",
              "      <td>75.953666</td>\n",
              "      <td>5.382758</td>\n",
              "      <td>0.080450</td>\n",
              "      <td>0.0</td>\n",
              "      <td>0.833864</td>\n",
              "      <td>24.631301</td>\n",
              "    </tr>\n",
              "    <tr>\n",
              "      <th>min</th>\n",
              "      <td>0.000000</td>\n",
              "      <td>5.000317e+04</td>\n",
              "      <td>0.000000</td>\n",
              "      <td>0.000000</td>\n",
              "      <td>0.000000</td>\n",
              "      <td>0.000000</td>\n",
              "      <td>0.000000</td>\n",
              "      <td>0.000000</td>\n",
              "      <td>0.0</td>\n",
              "      <td>0.000000</td>\n",
              "      <td>...</td>\n",
              "      <td>0.000000</td>\n",
              "      <td>0.000000</td>\n",
              "      <td>0.000000</td>\n",
              "      <td>0.000000</td>\n",
              "      <td>0.000000</td>\n",
              "      <td>0.000000</td>\n",
              "      <td>0.000000</td>\n",
              "      <td>0.0</td>\n",
              "      <td>0.000000</td>\n",
              "      <td>0.000000</td>\n",
              "    </tr>\n",
              "    <tr>\n",
              "      <th>25%</th>\n",
              "      <td>0.000000</td>\n",
              "      <td>5.213120e+04</td>\n",
              "      <td>0.000000</td>\n",
              "      <td>0.000000</td>\n",
              "      <td>0.000000</td>\n",
              "      <td>0.000000</td>\n",
              "      <td>0.000000</td>\n",
              "      <td>43.000000</td>\n",
              "      <td>0.0</td>\n",
              "      <td>0.000000</td>\n",
              "      <td>...</td>\n",
              "      <td>0.000000</td>\n",
              "      <td>0.000000</td>\n",
              "      <td>0.000000</td>\n",
              "      <td>1.000000</td>\n",
              "      <td>0.000000</td>\n",
              "      <td>0.000000</td>\n",
              "      <td>0.000000</td>\n",
              "      <td>0.0</td>\n",
              "      <td>0.000000</td>\n",
              "      <td>0.000000</td>\n",
              "    </tr>\n",
              "    <tr>\n",
              "      <th>50%</th>\n",
              "      <td>0.000000</td>\n",
              "      <td>5.812264e+04</td>\n",
              "      <td>0.000000</td>\n",
              "      <td>0.000000</td>\n",
              "      <td>0.000000</td>\n",
              "      <td>0.000000</td>\n",
              "      <td>0.000000</td>\n",
              "      <td>123.000000</td>\n",
              "      <td>0.0</td>\n",
              "      <td>0.000000</td>\n",
              "      <td>...</td>\n",
              "      <td>0.000000</td>\n",
              "      <td>0.000000</td>\n",
              "      <td>0.000000</td>\n",
              "      <td>1.000000</td>\n",
              "      <td>0.000000</td>\n",
              "      <td>0.000000</td>\n",
              "      <td>0.000000</td>\n",
              "      <td>0.0</td>\n",
              "      <td>0.000000</td>\n",
              "      <td>0.000000</td>\n",
              "    </tr>\n",
              "    <tr>\n",
              "      <th>75%</th>\n",
              "      <td>0.000000</td>\n",
              "      <td>8.108830e+04</td>\n",
              "      <td>0.000000</td>\n",
              "      <td>0.000000</td>\n",
              "      <td>0.000000</td>\n",
              "      <td>0.000000</td>\n",
              "      <td>7.000000</td>\n",
              "      <td>334.000000</td>\n",
              "      <td>0.0</td>\n",
              "      <td>0.000000</td>\n",
              "      <td>...</td>\n",
              "      <td>0.000000</td>\n",
              "      <td>0.000000</td>\n",
              "      <td>1.000000</td>\n",
              "      <td>1.000000</td>\n",
              "      <td>0.000000</td>\n",
              "      <td>0.000000</td>\n",
              "      <td>0.000000</td>\n",
              "      <td>0.0</td>\n",
              "      <td>0.000000</td>\n",
              "      <td>5.000000</td>\n",
              "    </tr>\n",
              "    <tr>\n",
              "      <th>max</th>\n",
              "      <td>1.000000</td>\n",
              "      <td>2.089189e+07</td>\n",
              "      <td>1.000000</td>\n",
              "      <td>117.000000</td>\n",
              "      <td>5054.000000</td>\n",
              "      <td>2441.000000</td>\n",
              "      <td>13567.000000</td>\n",
              "      <td>25927.000000</td>\n",
              "      <td>0.0</td>\n",
              "      <td>1.000000</td>\n",
              "      <td>...</td>\n",
              "      <td>1.000000</td>\n",
              "      <td>297.000000</td>\n",
              "      <td>9789.000000</td>\n",
              "      <td>1.000000</td>\n",
              "      <td>4924.000000</td>\n",
              "      <td>202.000000</td>\n",
              "      <td>1.000000</td>\n",
              "      <td>0.0</td>\n",
              "      <td>102.000000</td>\n",
              "      <td>973.000000</td>\n",
              "    </tr>\n",
              "  </tbody>\n",
              "</table>\n",
              "<p>8 rows × 80 columns</p>\n",
              "</div>\n",
              "      <button class=\"colab-df-convert\" onclick=\"convertToInteractive('df-272bb70a-d552-4a5a-84b3-b4c5b8477d9e')\"\n",
              "              title=\"Convert this dataframe to an interactive table.\"\n",
              "              style=\"display:none;\">\n",
              "        \n",
              "  <svg xmlns=\"http://www.w3.org/2000/svg\" height=\"24px\"viewBox=\"0 0 24 24\"\n",
              "       width=\"24px\">\n",
              "    <path d=\"M0 0h24v24H0V0z\" fill=\"none\"/>\n",
              "    <path d=\"M18.56 5.44l.94 2.06.94-2.06 2.06-.94-2.06-.94-.94-2.06-.94 2.06-2.06.94zm-11 1L8.5 8.5l.94-2.06 2.06-.94-2.06-.94L8.5 2.5l-.94 2.06-2.06.94zm10 10l.94 2.06.94-2.06 2.06-.94-2.06-.94-.94-2.06-.94 2.06-2.06.94z\"/><path d=\"M17.41 7.96l-1.37-1.37c-.4-.4-.92-.59-1.43-.59-.52 0-1.04.2-1.43.59L10.3 9.45l-7.72 7.72c-.78.78-.78 2.05 0 2.83L4 21.41c.39.39.9.59 1.41.59.51 0 1.02-.2 1.41-.59l7.78-7.78 2.81-2.81c.8-.78.8-2.07 0-2.86zM5.41 20L4 18.59l7.72-7.72 1.47 1.35L5.41 20z\"/>\n",
              "  </svg>\n",
              "      </button>\n",
              "      \n",
              "  <style>\n",
              "    .colab-df-container {\n",
              "      display:flex;\n",
              "      flex-wrap:wrap;\n",
              "      gap: 12px;\n",
              "    }\n",
              "\n",
              "    .colab-df-convert {\n",
              "      background-color: #E8F0FE;\n",
              "      border: none;\n",
              "      border-radius: 50%;\n",
              "      cursor: pointer;\n",
              "      display: none;\n",
              "      fill: #1967D2;\n",
              "      height: 32px;\n",
              "      padding: 0 0 0 0;\n",
              "      width: 32px;\n",
              "    }\n",
              "\n",
              "    .colab-df-convert:hover {\n",
              "      background-color: #E2EBFA;\n",
              "      box-shadow: 0px 1px 2px rgba(60, 64, 67, 0.3), 0px 1px 3px 1px rgba(60, 64, 67, 0.15);\n",
              "      fill: #174EA6;\n",
              "    }\n",
              "\n",
              "    [theme=dark] .colab-df-convert {\n",
              "      background-color: #3B4455;\n",
              "      fill: #D2E3FC;\n",
              "    }\n",
              "\n",
              "    [theme=dark] .colab-df-convert:hover {\n",
              "      background-color: #434B5C;\n",
              "      box-shadow: 0px 1px 3px 1px rgba(0, 0, 0, 0.15);\n",
              "      filter: drop-shadow(0px 1px 2px rgba(0, 0, 0, 0.3));\n",
              "      fill: #FFFFFF;\n",
              "    }\n",
              "  </style>\n",
              "\n",
              "      <script>\n",
              "        const buttonEl =\n",
              "          document.querySelector('#df-272bb70a-d552-4a5a-84b3-b4c5b8477d9e button.colab-df-convert');\n",
              "        buttonEl.style.display =\n",
              "          google.colab.kernel.accessAllowed ? 'block' : 'none';\n",
              "\n",
              "        async function convertToInteractive(key) {\n",
              "          const element = document.querySelector('#df-272bb70a-d552-4a5a-84b3-b4c5b8477d9e');\n",
              "          const dataTable =\n",
              "            await google.colab.kernel.invokeFunction('convertToInteractive',\n",
              "                                                     [key], {});\n",
              "          if (!dataTable) return;\n",
              "\n",
              "          const docLinkHtml = 'Like what you see? Visit the ' +\n",
              "            '<a target=\"_blank\" href=https://colab.research.google.com/notebooks/data_table.ipynb>data table notebook</a>'\n",
              "            + ' to learn more about interactive tables.';\n",
              "          element.innerHTML = '';\n",
              "          dataTable['output_type'] = 'display_data';\n",
              "          await google.colab.output.renderOutput(dataTable, element);\n",
              "          const docLink = document.createElement('div');\n",
              "          docLink.innerHTML = docLinkHtml;\n",
              "          element.appendChild(docLink);\n",
              "        }\n",
              "      </script>\n",
              "    </div>\n",
              "  </div>\n",
              "  "
            ]
          },
          "metadata": {},
          "execution_count": 37
        }
      ]
    },
    {
      "cell_type": "code",
      "source": [
        "data_raw.select_dtypes('object')"
      ],
      "metadata": {
        "colab": {
          "base_uri": "https://localhost:8080/",
          "height": 424
        },
        "id": "RUwzh689WGFu",
        "outputId": "edc866a9-67b4-48b9-b509-5ce9dff80442"
      },
      "execution_count": 38,
      "outputs": [
        {
          "output_type": "execute_result",
          "data": {
            "text/plain": [
              "      transaction_id transaction_date account_open_date  \\\n",
              "0        TRX00000000       2021-10-03        2021-06-28   \n",
              "1        TRX00000001       2021-10-03        2021-05-16   \n",
              "2        TRX00000002       2021-10-03        2021-04-19   \n",
              "3        TRX00000003       2021-10-03        2021-04-13   \n",
              "4        TRX00000004       2021-10-03        2021-03-15   \n",
              "...              ...              ...               ...   \n",
              "15776    TRX00015776       2021-12-31        2021-08-28   \n",
              "15777    TRX00015777       2021-12-31        2021-08-07   \n",
              "15778    TRX00015778       2021-12-31        2021-07-19   \n",
              "15779    TRX00015779       2021-12-31        2021-07-01   \n",
              "15780    TRX00015780       2021-12-31        2021-05-31   \n",
              "\n",
              "                       beneficiary  col_2 col_7 col_15 col_30     col_40  \n",
              "0               Manny's Auto Parts   25.0     E    BL1     US  Product_6  \n",
              "1               Zach's Agriculture   25.0     B    BL0     US  Product_1  \n",
              "2       Fiona's Technical Services   25.0     A    BL0     US  Product_0  \n",
              "3                 Omar's Exteriors   25.0     C    BL0     US  Product_9  \n",
              "4                Steve's Utilities   25.0     C    BL1     GB  Product_0  \n",
              "...                            ...    ...   ...    ...    ...        ...  \n",
              "15776            Laura's Utilities  17.22     A    BL0     US  Product_8  \n",
              "15777      Kathy's Food Processing  17.22     B    BL1     US  Product_0  \n",
              "15778  Xavier's Technical Services  17.22     C    BL0     US  Product_8  \n",
              "15779             David's Tutoring  17.22     A    BL1     US  Product_0  \n",
              "15780      Romeo's Food Processing  17.22     C    BL0     US  Product_1  \n",
              "\n",
              "[15781 rows x 9 columns]"
            ],
            "text/html": [
              "\n",
              "  <div id=\"df-a0b6ad9e-1281-43e4-96a4-131e3e8f8e6e\">\n",
              "    <div class=\"colab-df-container\">\n",
              "      <div>\n",
              "<style scoped>\n",
              "    .dataframe tbody tr th:only-of-type {\n",
              "        vertical-align: middle;\n",
              "    }\n",
              "\n",
              "    .dataframe tbody tr th {\n",
              "        vertical-align: top;\n",
              "    }\n",
              "\n",
              "    .dataframe thead th {\n",
              "        text-align: right;\n",
              "    }\n",
              "</style>\n",
              "<table border=\"1\" class=\"dataframe\">\n",
              "  <thead>\n",
              "    <tr style=\"text-align: right;\">\n",
              "      <th></th>\n",
              "      <th>transaction_id</th>\n",
              "      <th>transaction_date</th>\n",
              "      <th>account_open_date</th>\n",
              "      <th>beneficiary</th>\n",
              "      <th>col_2</th>\n",
              "      <th>col_7</th>\n",
              "      <th>col_15</th>\n",
              "      <th>col_30</th>\n",
              "      <th>col_40</th>\n",
              "    </tr>\n",
              "  </thead>\n",
              "  <tbody>\n",
              "    <tr>\n",
              "      <th>0</th>\n",
              "      <td>TRX00000000</td>\n",
              "      <td>2021-10-03</td>\n",
              "      <td>2021-06-28</td>\n",
              "      <td>Manny's Auto Parts</td>\n",
              "      <td>25.0</td>\n",
              "      <td>E</td>\n",
              "      <td>BL1</td>\n",
              "      <td>US</td>\n",
              "      <td>Product_6</td>\n",
              "    </tr>\n",
              "    <tr>\n",
              "      <th>1</th>\n",
              "      <td>TRX00000001</td>\n",
              "      <td>2021-10-03</td>\n",
              "      <td>2021-05-16</td>\n",
              "      <td>Zach's Agriculture</td>\n",
              "      <td>25.0</td>\n",
              "      <td>B</td>\n",
              "      <td>BL0</td>\n",
              "      <td>US</td>\n",
              "      <td>Product_1</td>\n",
              "    </tr>\n",
              "    <tr>\n",
              "      <th>2</th>\n",
              "      <td>TRX00000002</td>\n",
              "      <td>2021-10-03</td>\n",
              "      <td>2021-04-19</td>\n",
              "      <td>Fiona's Technical Services</td>\n",
              "      <td>25.0</td>\n",
              "      <td>A</td>\n",
              "      <td>BL0</td>\n",
              "      <td>US</td>\n",
              "      <td>Product_0</td>\n",
              "    </tr>\n",
              "    <tr>\n",
              "      <th>3</th>\n",
              "      <td>TRX00000003</td>\n",
              "      <td>2021-10-03</td>\n",
              "      <td>2021-04-13</td>\n",
              "      <td>Omar's Exteriors</td>\n",
              "      <td>25.0</td>\n",
              "      <td>C</td>\n",
              "      <td>BL0</td>\n",
              "      <td>US</td>\n",
              "      <td>Product_9</td>\n",
              "    </tr>\n",
              "    <tr>\n",
              "      <th>4</th>\n",
              "      <td>TRX00000004</td>\n",
              "      <td>2021-10-03</td>\n",
              "      <td>2021-03-15</td>\n",
              "      <td>Steve's Utilities</td>\n",
              "      <td>25.0</td>\n",
              "      <td>C</td>\n",
              "      <td>BL1</td>\n",
              "      <td>GB</td>\n",
              "      <td>Product_0</td>\n",
              "    </tr>\n",
              "    <tr>\n",
              "      <th>...</th>\n",
              "      <td>...</td>\n",
              "      <td>...</td>\n",
              "      <td>...</td>\n",
              "      <td>...</td>\n",
              "      <td>...</td>\n",
              "      <td>...</td>\n",
              "      <td>...</td>\n",
              "      <td>...</td>\n",
              "      <td>...</td>\n",
              "    </tr>\n",
              "    <tr>\n",
              "      <th>15776</th>\n",
              "      <td>TRX00015776</td>\n",
              "      <td>2021-12-31</td>\n",
              "      <td>2021-08-28</td>\n",
              "      <td>Laura's Utilities</td>\n",
              "      <td>17.22</td>\n",
              "      <td>A</td>\n",
              "      <td>BL0</td>\n",
              "      <td>US</td>\n",
              "      <td>Product_8</td>\n",
              "    </tr>\n",
              "    <tr>\n",
              "      <th>15777</th>\n",
              "      <td>TRX00015777</td>\n",
              "      <td>2021-12-31</td>\n",
              "      <td>2021-08-07</td>\n",
              "      <td>Kathy's Food Processing</td>\n",
              "      <td>17.22</td>\n",
              "      <td>B</td>\n",
              "      <td>BL1</td>\n",
              "      <td>US</td>\n",
              "      <td>Product_0</td>\n",
              "    </tr>\n",
              "    <tr>\n",
              "      <th>15778</th>\n",
              "      <td>TRX00015778</td>\n",
              "      <td>2021-12-31</td>\n",
              "      <td>2021-07-19</td>\n",
              "      <td>Xavier's Technical Services</td>\n",
              "      <td>17.22</td>\n",
              "      <td>C</td>\n",
              "      <td>BL0</td>\n",
              "      <td>US</td>\n",
              "      <td>Product_8</td>\n",
              "    </tr>\n",
              "    <tr>\n",
              "      <th>15779</th>\n",
              "      <td>TRX00015779</td>\n",
              "      <td>2021-12-31</td>\n",
              "      <td>2021-07-01</td>\n",
              "      <td>David's Tutoring</td>\n",
              "      <td>17.22</td>\n",
              "      <td>A</td>\n",
              "      <td>BL1</td>\n",
              "      <td>US</td>\n",
              "      <td>Product_0</td>\n",
              "    </tr>\n",
              "    <tr>\n",
              "      <th>15780</th>\n",
              "      <td>TRX00015780</td>\n",
              "      <td>2021-12-31</td>\n",
              "      <td>2021-05-31</td>\n",
              "      <td>Romeo's Food Processing</td>\n",
              "      <td>17.22</td>\n",
              "      <td>C</td>\n",
              "      <td>BL0</td>\n",
              "      <td>US</td>\n",
              "      <td>Product_1</td>\n",
              "    </tr>\n",
              "  </tbody>\n",
              "</table>\n",
              "<p>15781 rows × 9 columns</p>\n",
              "</div>\n",
              "      <button class=\"colab-df-convert\" onclick=\"convertToInteractive('df-a0b6ad9e-1281-43e4-96a4-131e3e8f8e6e')\"\n",
              "              title=\"Convert this dataframe to an interactive table.\"\n",
              "              style=\"display:none;\">\n",
              "        \n",
              "  <svg xmlns=\"http://www.w3.org/2000/svg\" height=\"24px\"viewBox=\"0 0 24 24\"\n",
              "       width=\"24px\">\n",
              "    <path d=\"M0 0h24v24H0V0z\" fill=\"none\"/>\n",
              "    <path d=\"M18.56 5.44l.94 2.06.94-2.06 2.06-.94-2.06-.94-.94-2.06-.94 2.06-2.06.94zm-11 1L8.5 8.5l.94-2.06 2.06-.94-2.06-.94L8.5 2.5l-.94 2.06-2.06.94zm10 10l.94 2.06.94-2.06 2.06-.94-2.06-.94-.94-2.06-.94 2.06-2.06.94z\"/><path d=\"M17.41 7.96l-1.37-1.37c-.4-.4-.92-.59-1.43-.59-.52 0-1.04.2-1.43.59L10.3 9.45l-7.72 7.72c-.78.78-.78 2.05 0 2.83L4 21.41c.39.39.9.59 1.41.59.51 0 1.02-.2 1.41-.59l7.78-7.78 2.81-2.81c.8-.78.8-2.07 0-2.86zM5.41 20L4 18.59l7.72-7.72 1.47 1.35L5.41 20z\"/>\n",
              "  </svg>\n",
              "      </button>\n",
              "      \n",
              "  <style>\n",
              "    .colab-df-container {\n",
              "      display:flex;\n",
              "      flex-wrap:wrap;\n",
              "      gap: 12px;\n",
              "    }\n",
              "\n",
              "    .colab-df-convert {\n",
              "      background-color: #E8F0FE;\n",
              "      border: none;\n",
              "      border-radius: 50%;\n",
              "      cursor: pointer;\n",
              "      display: none;\n",
              "      fill: #1967D2;\n",
              "      height: 32px;\n",
              "      padding: 0 0 0 0;\n",
              "      width: 32px;\n",
              "    }\n",
              "\n",
              "    .colab-df-convert:hover {\n",
              "      background-color: #E2EBFA;\n",
              "      box-shadow: 0px 1px 2px rgba(60, 64, 67, 0.3), 0px 1px 3px 1px rgba(60, 64, 67, 0.15);\n",
              "      fill: #174EA6;\n",
              "    }\n",
              "\n",
              "    [theme=dark] .colab-df-convert {\n",
              "      background-color: #3B4455;\n",
              "      fill: #D2E3FC;\n",
              "    }\n",
              "\n",
              "    [theme=dark] .colab-df-convert:hover {\n",
              "      background-color: #434B5C;\n",
              "      box-shadow: 0px 1px 3px 1px rgba(0, 0, 0, 0.15);\n",
              "      filter: drop-shadow(0px 1px 2px rgba(0, 0, 0, 0.3));\n",
              "      fill: #FFFFFF;\n",
              "    }\n",
              "  </style>\n",
              "\n",
              "      <script>\n",
              "        const buttonEl =\n",
              "          document.querySelector('#df-a0b6ad9e-1281-43e4-96a4-131e3e8f8e6e button.colab-df-convert');\n",
              "        buttonEl.style.display =\n",
              "          google.colab.kernel.accessAllowed ? 'block' : 'none';\n",
              "\n",
              "        async function convertToInteractive(key) {\n",
              "          const element = document.querySelector('#df-a0b6ad9e-1281-43e4-96a4-131e3e8f8e6e');\n",
              "          const dataTable =\n",
              "            await google.colab.kernel.invokeFunction('convertToInteractive',\n",
              "                                                     [key], {});\n",
              "          if (!dataTable) return;\n",
              "\n",
              "          const docLinkHtml = 'Like what you see? Visit the ' +\n",
              "            '<a target=\"_blank\" href=https://colab.research.google.com/notebooks/data_table.ipynb>data table notebook</a>'\n",
              "            + ' to learn more about interactive tables.';\n",
              "          element.innerHTML = '';\n",
              "          dataTable['output_type'] = 'display_data';\n",
              "          await google.colab.output.renderOutput(dataTable, element);\n",
              "          const docLink = document.createElement('div');\n",
              "          docLink.innerHTML = docLinkHtml;\n",
              "          element.appendChild(docLink);\n",
              "        }\n",
              "      </script>\n",
              "    </div>\n",
              "  </div>\n",
              "  "
            ]
          },
          "metadata": {},
          "execution_count": 38
        }
      ]
    },
    {
      "cell_type": "code",
      "source": [
        "cols = np.array(data_raw.columns, dtype='str')"
      ],
      "metadata": {
        "id": "svAoIo1QWSuB"
      },
      "execution_count": 39,
      "outputs": []
    },
    {
      "cell_type": "code",
      "source": [
        "## Some of the columns have no useful information (having same values)\n",
        "## So dropping them from the data\n",
        "drop_cols = ['col_101', 'col_103', 'col_113', 'col_13', 'col_21', 'col_23', 'col_25',\n",
        "             'col_26', 'col_27', 'col_29', 'col_33', 'col_43', 'col_44', 'col_45',\n",
        "             'col_47', 'col_50', 'col_62', 'col_70', 'col_72', 'col_75', 'col_81',\n",
        "             'col_87', 'col_92', 'col_94']\n",
        "data_raw.drop(drop_cols, axis=1, inplace=True)"
      ],
      "metadata": {
        "id": "GZcImtyol0hj"
      },
      "execution_count": 40,
      "outputs": []
    },
    {
      "cell_type": "markdown",
      "source": [
        "## Preprocessing"
      ],
      "metadata": {
        "id": "ZceZdg1HYZyj"
      }
    },
    {
      "cell_type": "markdown",
      "source": [
        "## transaction_id"
      ],
      "metadata": {
        "id": "TeKGtBGyYcjG"
      }
    },
    {
      "cell_type": "code",
      "source": [
        "# transaction_id won't help in anyway for a machine_learning model \n",
        "# as its a unique string for each row with no correlation to any of the data.\n",
        "# Hence, dropping it \n",
        "data = data_raw.drop('transaction_id', axis=1).copy(deep=True)"
      ],
      "metadata": {
        "id": "6OxTGL0RYMEk"
      },
      "execution_count": 41,
      "outputs": []
    },
    {
      "cell_type": "markdown",
      "source": [
        "## targets"
      ],
      "metadata": {
        "id": "iW_xWC_qZmh_"
      }
    },
    {
      "cell_type": "code",
      "source": [
        "data = data[data.targets.notnull()].copy(deep=True)"
      ],
      "metadata": {
        "id": "GNoOMv0KYtye"
      },
      "execution_count": 42,
      "outputs": []
    },
    {
      "cell_type": "markdown",
      "source": [
        "## transaction_date"
      ],
      "metadata": {
        "id": "aQe_3Cp2f0t7"
      }
    },
    {
      "cell_type": "code",
      "source": [
        "data = data[data.transaction_date.notnull()]"
      ],
      "metadata": {
        "id": "lcalKMjrcYh6"
      },
      "execution_count": 43,
      "outputs": []
    },
    {
      "cell_type": "code",
      "source": [
        "data['transaction_day'] = pd.to_datetime(data.transaction_date).dt.day\n",
        "data['transaction_month'] = pd.to_datetime(data.transaction_date).dt.month\n",
        "data['transaction_year'] = pd.to_datetime(data.transaction_date).dt.year"
      ],
      "metadata": {
        "id": "TZ8704PHgICQ"
      },
      "execution_count": 44,
      "outputs": []
    },
    {
      "cell_type": "markdown",
      "source": [
        "## account_open_date"
      ],
      "metadata": {
        "id": "oIKyA01Q1TdY"
      }
    },
    {
      "cell_type": "code",
      "source": [
        "len(data[data.account_open_date.isnull()])"
      ],
      "metadata": {
        "colab": {
          "base_uri": "https://localhost:8080/"
        },
        "id": "j9TX0qEb1PNy",
        "outputId": "d3af1559-2593-4123-9e5c-50e7cc9a5451"
      },
      "execution_count": 45,
      "outputs": [
        {
          "output_type": "execute_result",
          "data": {
            "text/plain": [
              "106"
            ]
          },
          "metadata": {},
          "execution_count": 45
        }
      ]
    },
    {
      "cell_type": "code",
      "source": [
        "# Only 106 columns missing so we can drop those\n",
        "data = data[data.account_open_date.notnull()]\n",
        "data['account_open_day'] = pd.to_datetime(data.account_open_date).dt.day\n",
        "data['account_open_date'] = pd.to_datetime(data.account_open_date).dt.month\n",
        "data['account_open_date_year'] = pd.to_datetime(data.account_open_date).dt.year"
      ],
      "metadata": {
        "id": "bL7YPVek11vm"
      },
      "execution_count": 46,
      "outputs": []
    },
    {
      "cell_type": "code",
      "source": [
        "plt.figure(figsize=(20,2))\n",
        "sns.scatterplot(x='transaction_date', y='transaction_amount', hue='targets', data=data)"
      ],
      "metadata": {
        "colab": {
          "base_uri": "https://localhost:8080/",
          "height": 200
        },
        "id": "GttUlb6Mc0GQ",
        "outputId": "fc6716f4-0e08-444f-f94f-df552ff505ee"
      },
      "execution_count": 47,
      "outputs": [
        {
          "output_type": "execute_result",
          "data": {
            "text/plain": [
              "<matplotlib.axes._subplots.AxesSubplot at 0x7f248e8f2b50>"
            ]
          },
          "metadata": {},
          "execution_count": 47
        },
        {
          "output_type": "display_data",
          "data": {
            "text/plain": [
              "<Figure size 1440x144 with 1 Axes>"
            ],
            "image/png": "[encoded data removed]"
          },
          "metadata": {
            "needs_background": "light"
          }
        }
      ]
    },
    {
      "cell_type": "markdown",
      "source": [
        "3.\tDerive at least one new features from the data.  \n",
        "•\tWhy can these features potentially help your model?\n",
        "\n",
        "To derive new features from the data, I would consider using feature engineering techniques such as creating interaction terms, binning variables, and combining categorical variables. For example, if the dataset includes information on the type of transaction, the location of the transaction, and the time of the transaction, I could create a new feature that combines these variables to indicate whether the transaction is of a certain type in a certain location at a certain time. This feature could potentially help the model by providing additional information about the context of the transaction."
      ],
      "metadata": {
        "id": "Sv5XAcYZBqAr"
      }
    },
    {
      "cell_type": "code",
      "source": [
        "# Create a new feature that represents the time between account open date and transaction date\n",
        "data['account_age'] = (pd.to_datetime(data['transaction_date']) - pd.to_datetime(data['account_open_date'])).dt.days\n",
        "data.drop(['transaction_date','account_open_date'],axis=1,inplace=True)"
      ],
      "metadata": {
        "id": "yUJlRbwABGjo"
      },
      "execution_count": 48,
      "outputs": []
    },
    {
      "cell_type": "markdown",
      "source": [
        "## benificiary"
      ],
      "metadata": {
        "id": "wTry1QN42sN1"
      }
    },
    {
      "cell_type": "code",
      "source": [
        "data = data[data.beneficiary.notnull()]"
      ],
      "metadata": {
        "id": "IBsUIqOi2KKf"
      },
      "execution_count": 49,
      "outputs": []
    },
    {
      "cell_type": "code",
      "source": [
        "len(data.beneficiary.unique())"
      ],
      "metadata": {
        "colab": {
          "base_uri": "https://localhost:8080/"
        },
        "id": "eNIErWMU2yo3",
        "outputId": "acc8443c-bdf1-4da0-affc-eeadca04e495"
      },
      "execution_count": 50,
      "outputs": [
        {
          "output_type": "execute_result",
          "data": {
            "text/plain": [
              "1531"
            ]
          },
          "metadata": {},
          "execution_count": 50
        }
      ]
    },
    {
      "cell_type": "code",
      "source": [
        "# We need to encode thos 1531 beneficiaries\n",
        "le_beneficiary = LabelEncoder()"
      ],
      "metadata": {
        "id": "5ygXylXH23uF"
      },
      "execution_count": 51,
      "outputs": []
    },
    {
      "cell_type": "code",
      "source": [
        "data['beneficiary'] = le_beneficiary.fit_transform(data.beneficiary.values)"
      ],
      "metadata": {
        "id": "_eMUZYxh3T0D"
      },
      "execution_count": 52,
      "outputs": []
    },
    {
      "cell_type": "markdown",
      "source": [
        "## col_2"
      ],
      "metadata": {
        "id": "DuIszG4L3nMc"
      }
    },
    {
      "cell_type": "code",
      "source": [
        "data = data[data.col_2.notnull()]"
      ],
      "metadata": {
        "id": "fB7kX_6B3awl"
      },
      "execution_count": 53,
      "outputs": []
    },
    {
      "cell_type": "code",
      "source": [
        "data.col_2.unique()"
      ],
      "metadata": {
        "colab": {
          "base_uri": "https://localhost:8080/"
        },
        "id": "8I19oimK6JZf",
        "outputId": "e036b196-a49d-45b1-9946-ed4385b210a1"
      },
      "execution_count": 54,
      "outputs": [
        {
          "output_type": "execute_result",
          "data": {
            "text/plain": [
              "array([25.0, 22.96, 21.3, 21.0, 19.54, 18.77, 20.0, 19.85, 18.64, 16.86,\n",
              "       16.3, 16.31, 15.7, 15.49, 15.01, 15.43, 15.24, 15.98, 16.98, 16.53,\n",
              "       16.26, 16.41, 16.03, 15.1, 15.44, 16.48, 17.22, 17.78, 18.73,\n",
              "       17.66, 16.29, 16.49, 16.37, 17.11, 17.59, '17.59', '17.91', '25',\n",
              "       '19.17', '19.38', '18.58', '.', '28.62', '22.96', '27.19', '31.12',\n",
              "       '27.95', '30.67', '27.18', '21.89', '19.9', '21.58', '18.69',\n",
              "       '20.31', '19.29', '20.57', '21.57', '22.87', '21.01', '18.63',\n",
              "       '17.96', '17.68', '17.54', '16.95', '17.33', '17.22'], dtype=object)"
            ]
          },
          "metadata": {},
          "execution_count": 54
        }
      ]
    },
    {
      "cell_type": "code",
      "source": [
        "# removing invalid values\n",
        "data = data[data.col_2 != '.']"
      ],
      "metadata": {
        "id": "HPdVtsEj6Ajk"
      },
      "execution_count": 55,
      "outputs": []
    },
    {
      "cell_type": "code",
      "source": [
        "data['col_2'] = data['col_2'].astype(float)"
      ],
      "metadata": {
        "id": "gzFSbstq6TYH"
      },
      "execution_count": 56,
      "outputs": []
    },
    {
      "cell_type": "markdown",
      "source": [
        "## col_7, col_15, col_30, col_40"
      ],
      "metadata": {
        "id": "QMD9k95u7Baa"
      }
    },
    {
      "cell_type": "code",
      "source": [
        "data = data[data.col_7.notnull()]\n",
        "data = data[data.col_15.notnull()]\n",
        "data = data[data.col_30.notnull()]\n",
        "data = data[data.col_40.notnull()]"
      ],
      "metadata": {
        "id": "Tjyt-inv7GUC"
      },
      "execution_count": 57,
      "outputs": []
    },
    {
      "cell_type": "code",
      "source": [
        "le_col7 = LabelEncoder()\n",
        "data['col_7'] = le_col7.fit_transform(data.col_7.values)\n",
        "le_col15 = LabelEncoder()\n",
        "data['col_15'] = le_col7.fit_transform(data.col_15.values)\n",
        "le_col30 = LabelEncoder()\n",
        "data['col_30'] = le_col7.fit_transform(data.col_30.values)\n",
        "le_col40 = LabelEncoder()\n",
        "data['col_40'] = le_col7.fit_transform(data.col_40.values)"
      ],
      "metadata": {
        "id": "IfAZo4zk7Ujn"
      },
      "execution_count": 58,
      "outputs": []
    },
    {
      "cell_type": "code",
      "source": [
        "# Dropping columns with more than 20% null values\n",
        "for col in data.columns:\n",
        "  null_pct = len(data[data[col].isnull()])/len(data)\n",
        "  if(null_pct > 0.2):\n",
        "    print(f\"{col} {len(data[data[col].isnull()])/len(data)}\")\n",
        "    data.drop(col, axis=1, inplace=True)\n",
        "\n",
        "# Filling the rest of the missing data\n",
        "data.fillna(method='bfill', axis=0, inplace=True)"
      ],
      "metadata": {
        "colab": {
          "base_uri": "https://localhost:8080/"
        },
        "id": "WwyLRJPs8D70",
        "outputId": "f41eed71-c787-4198-dc46-14856f1d0ce4"
      },
      "execution_count": 59,
      "outputs": [
        {
          "output_type": "stream",
          "name": "stdout",
          "text": [
            "col_0 0.22806102490546357\n",
            "col_9 0.309688355717825\n",
            "col_14 0.38316599295866477\n",
            "col_17 0.715086712739601\n",
            "col_22 0.320185161037945\n",
            "col_39 0.7747424696831399\n",
            "col_68 0.47822401877689397\n",
            "col_73 0.28902073282044594\n",
            "col_80 0.7876515843004303\n",
            "col_89 0.28373973138609987\n",
            "col_104 0.6524970661103142\n",
            "col_112 0.8632807406441518\n",
            "col_115 0.2755900378145782\n"
          ]
        }
      ]
    },
    {
      "cell_type": "markdown",
      "source": [
        "## Data Analysis"
      ],
      "metadata": {
        "id": "uE2F1Tsc_JrN"
      }
    },
    {
      "cell_type": "code",
      "source": [
        "data.describe()"
      ],
      "metadata": {
        "colab": {
          "base_uri": "https://localhost:8080/",
          "height": 394
        },
        "id": "p0rfMFJW--MS",
        "outputId": "dd77f1a4-d344-4dd4-9939-a6bbefccaf19"
      },
      "execution_count": 60,
      "outputs": [
        {
          "output_type": "execute_result",
          "data": {
            "text/plain": [
              "            targets  transaction_amount   beneficiary         col_2  \\\n",
              "count  15338.000000        1.533800e+04  15338.000000  15338.000000   \n",
              "mean       0.047399        1.107031e+05    772.199961     20.878399   \n",
              "std        0.212497        3.440152e+05    441.601404      4.089925   \n",
              "min        0.000000        5.000317e+04      0.000000     15.010000   \n",
              "25%        0.000000        5.213418e+04    396.000000     17.220000   \n",
              "50%        0.000000        5.813687e+04    771.000000     20.000000   \n",
              "75%        0.000000        8.109277e+04   1157.000000     25.000000   \n",
              "max        1.000000        2.089189e+07   1530.000000     31.120000   \n",
              "\n",
              "              col_3         col_4         col_7         col_8        col_10  \\\n",
              "count  15338.000000  15338.000000  15338.000000  15338.000000  15338.000000   \n",
              "mean       0.268288      2.483635      1.412244      0.680076    334.508997   \n",
              "std        1.880172     47.537085      1.146570     20.510348    728.308116   \n",
              "min        0.000000      0.000000      0.000000      0.000000      0.000000   \n",
              "25%        0.000000      0.000000      0.000000      0.000000     43.000000   \n",
              "50%        0.000000      0.000000      2.000000      0.000000    123.000000   \n",
              "75%        0.000000      0.000000      2.000000      0.000000    335.000000   \n",
              "max      117.000000   5054.000000      4.000000   2441.000000  25927.000000   \n",
              "\n",
              "             col_15  ...  col_107       col_109       col_110       col_114  \\\n",
              "count  15338.000000  ...  15338.0  15338.000000  15338.000000  15338.000000   \n",
              "mean       0.411657  ...      1.0      9.312166      1.119246      0.010627   \n",
              "std        0.492150  ...      0.0     76.935202      5.434219      0.845782   \n",
              "min        0.000000  ...      1.0      0.000000      0.000000      0.000000   \n",
              "25%        0.000000  ...      1.0      0.000000      0.000000      0.000000   \n",
              "50%        0.000000  ...      1.0      0.000000      0.000000      0.000000   \n",
              "75%        1.000000  ...      1.0      0.000000      0.000000      0.000000   \n",
              "max        1.000000  ...      1.0   4924.000000    202.000000    102.000000   \n",
              "\n",
              "       transaction_day  transaction_month  transaction_year  account_open_day  \\\n",
              "count     15338.000000       15338.000000           15338.0      15338.000000   \n",
              "mean         15.852914          11.015778            2021.0         15.678250   \n",
              "std           8.666076           0.819108               0.0          8.758811   \n",
              "min           1.000000          10.000000            2021.0          1.000000   \n",
              "25%           8.000000          10.000000            2021.0          8.000000   \n",
              "50%          16.000000          11.000000            2021.0         16.000000   \n",
              "75%          23.000000          12.000000            2021.0         23.000000   \n",
              "max          31.000000          12.000000            2021.0         31.000000   \n",
              "\n",
              "       account_open_date_year   account_age  \n",
              "count                 15338.0  15338.000000  \n",
              "mean                   1970.0  18945.998566  \n",
              "std                       0.0     25.933238  \n",
              "min                    1970.0  18902.000000  \n",
              "25%                    1970.0  18924.000000  \n",
              "50%                    1970.0  18945.000000  \n",
              "75%                    1970.0  18969.000000  \n",
              "max                    1970.0  18991.000000  \n",
              "\n",
              "[8 rows x 59 columns]"
            ],
            "text/html": [
              "\n",
              "  <div id=\"df-ab5869bb-6fdc-4f89-a28c-65a862187499\">\n",
              "    <div class=\"colab-df-container\">\n",
              "      <div>\n",
              "<style scoped>\n",
              "    .dataframe tbody tr th:only-of-type {\n",
              "        vertical-align: middle;\n",
              "    }\n",
              "\n",
              "    .dataframe tbody tr th {\n",
              "        vertical-align: top;\n",
              "    }\n",
              "\n",
              "    .dataframe thead th {\n",
              "        text-align: right;\n",
              "    }\n",
              "</style>\n",
              "<table border=\"1\" class=\"dataframe\">\n",
              "  <thead>\n",
              "    <tr style=\"text-align: right;\">\n",
              "      <th></th>\n",
              "      <th>targets</th>\n",
              "      <th>transaction_amount</th>\n",
              "      <th>beneficiary</th>\n",
              "      <th>col_2</th>\n",
              "      <th>col_3</th>\n",
              "      <th>col_4</th>\n",
              "      <th>col_7</th>\n",
              "      <th>col_8</th>\n",
              "      <th>col_10</th>\n",
              "      <th>col_15</th>\n",
              "      <th>...</th>\n",
              "      <th>col_107</th>\n",
              "      <th>col_109</th>\n",
              "      <th>col_110</th>\n",
              "      <th>col_114</th>\n",
              "      <th>transaction_day</th>\n",
              "      <th>transaction_month</th>\n",
              "      <th>transaction_year</th>\n",
              "      <th>account_open_day</th>\n",
              "      <th>account_open_date_year</th>\n",
              "      <th>account_age</th>\n",
              "    </tr>\n",
              "  </thead>\n",
              "  <tbody>\n",
              "    <tr>\n",
              "      <th>count</th>\n",
              "      <td>15338.000000</td>\n",
              "      <td>1.533800e+04</td>\n",
              "      <td>15338.000000</td>\n",
              "      <td>15338.000000</td>\n",
              "      <td>15338.000000</td>\n",
              "      <td>15338.000000</td>\n",
              "      <td>15338.000000</td>\n",
              "      <td>15338.000000</td>\n",
              "      <td>15338.000000</td>\n",
              "      <td>15338.000000</td>\n",
              "      <td>...</td>\n",
              "      <td>15338.0</td>\n",
              "      <td>15338.000000</td>\n",
              "      <td>15338.000000</td>\n",
              "      <td>15338.000000</td>\n",
              "      <td>15338.000000</td>\n",
              "      <td>15338.000000</td>\n",
              "      <td>15338.0</td>\n",
              "      <td>15338.000000</td>\n",
              "      <td>15338.0</td>\n",
              "      <td>15338.000000</td>\n",
              "    </tr>\n",
              "    <tr>\n",
              "      <th>mean</th>\n",
              "      <td>0.047399</td>\n",
              "      <td>1.107031e+05</td>\n",
              "      <td>772.199961</td>\n",
              "      <td>20.878399</td>\n",
              "      <td>0.268288</td>\n",
              "      <td>2.483635</td>\n",
              "      <td>1.412244</td>\n",
              "      <td>0.680076</td>\n",
              "      <td>334.508997</td>\n",
              "      <td>0.411657</td>\n",
              "      <td>...</td>\n",
              "      <td>1.0</td>\n",
              "      <td>9.312166</td>\n",
              "      <td>1.119246</td>\n",
              "      <td>0.010627</td>\n",
              "      <td>15.852914</td>\n",
              "      <td>11.015778</td>\n",
              "      <td>2021.0</td>\n",
              "      <td>15.678250</td>\n",
              "      <td>1970.0</td>\n",
              "      <td>18945.998566</td>\n",
              "    </tr>\n",
              "    <tr>\n",
              "      <th>std</th>\n",
              "      <td>0.212497</td>\n",
              "      <td>3.440152e+05</td>\n",
              "      <td>441.601404</td>\n",
              "      <td>4.089925</td>\n",
              "      <td>1.880172</td>\n",
              "      <td>47.537085</td>\n",
              "      <td>1.146570</td>\n",
              "      <td>20.510348</td>\n",
              "      <td>728.308116</td>\n",
              "      <td>0.492150</td>\n",
              "      <td>...</td>\n",
              "      <td>0.0</td>\n",
              "      <td>76.935202</td>\n",
              "      <td>5.434219</td>\n",
              "      <td>0.845782</td>\n",
              "      <td>8.666076</td>\n",
              "      <td>0.819108</td>\n",
              "      <td>0.0</td>\n",
              "      <td>8.758811</td>\n",
              "      <td>0.0</td>\n",
              "      <td>25.933238</td>\n",
              "    </tr>\n",
              "    <tr>\n",
              "      <th>min</th>\n",
              "      <td>0.000000</td>\n",
              "      <td>5.000317e+04</td>\n",
              "      <td>0.000000</td>\n",
              "      <td>15.010000</td>\n",
              "      <td>0.000000</td>\n",
              "      <td>0.000000</td>\n",
              "      <td>0.000000</td>\n",
              "      <td>0.000000</td>\n",
              "      <td>0.000000</td>\n",
              "      <td>0.000000</td>\n",
              "      <td>...</td>\n",
              "      <td>1.0</td>\n",
              "      <td>0.000000</td>\n",
              "      <td>0.000000</td>\n",
              "      <td>0.000000</td>\n",
              "      <td>1.000000</td>\n",
              "      <td>10.000000</td>\n",
              "      <td>2021.0</td>\n",
              "      <td>1.000000</td>\n",
              "      <td>1970.0</td>\n",
              "      <td>18902.000000</td>\n",
              "    </tr>\n",
              "    <tr>\n",
              "      <th>25%</th>\n",
              "      <td>0.000000</td>\n",
              "      <td>5.213418e+04</td>\n",
              "      <td>396.000000</td>\n",
              "      <td>17.220000</td>\n",
              "      <td>0.000000</td>\n",
              "      <td>0.000000</td>\n",
              "      <td>0.000000</td>\n",
              "      <td>0.000000</td>\n",
              "      <td>43.000000</td>\n",
              "      <td>0.000000</td>\n",
              "      <td>...</td>\n",
              "      <td>1.0</td>\n",
              "      <td>0.000000</td>\n",
              "      <td>0.000000</td>\n",
              "      <td>0.000000</td>\n",
              "      <td>8.000000</td>\n",
              "      <td>10.000000</td>\n",
              "      <td>2021.0</td>\n",
              "      <td>8.000000</td>\n",
              "      <td>1970.0</td>\n",
              "      <td>18924.000000</td>\n",
              "    </tr>\n",
              "    <tr>\n",
              "      <th>50%</th>\n",
              "      <td>0.000000</td>\n",
              "      <td>5.813687e+04</td>\n",
              "      <td>771.000000</td>\n",
              "      <td>20.000000</td>\n",
              "      <td>0.000000</td>\n",
              "      <td>0.000000</td>\n",
              "      <td>2.000000</td>\n",
              "      <td>0.000000</td>\n",
              "      <td>123.000000</td>\n",
              "      <td>0.000000</td>\n",
              "      <td>...</td>\n",
              "      <td>1.0</td>\n",
              "      <td>0.000000</td>\n",
              "      <td>0.000000</td>\n",
              "      <td>0.000000</td>\n",
              "      <td>16.000000</td>\n",
              "      <td>11.000000</td>\n",
              "      <td>2021.0</td>\n",
              "      <td>16.000000</td>\n",
              "      <td>1970.0</td>\n",
              "      <td>18945.000000</td>\n",
              "    </tr>\n",
              "    <tr>\n",
              "      <th>75%</th>\n",
              "      <td>0.000000</td>\n",
              "      <td>8.109277e+04</td>\n",
              "      <td>1157.000000</td>\n",
              "      <td>25.000000</td>\n",
              "      <td>0.000000</td>\n",
              "      <td>0.000000</td>\n",
              "      <td>2.000000</td>\n",
              "      <td>0.000000</td>\n",
              "      <td>335.000000</td>\n",
              "      <td>1.000000</td>\n",
              "      <td>...</td>\n",
              "      <td>1.0</td>\n",
              "      <td>0.000000</td>\n",
              "      <td>0.000000</td>\n",
              "      <td>0.000000</td>\n",
              "      <td>23.000000</td>\n",
              "      <td>12.000000</td>\n",
              "      <td>2021.0</td>\n",
              "      <td>23.000000</td>\n",
              "      <td>1970.0</td>\n",
              "      <td>18969.000000</td>\n",
              "    </tr>\n",
              "    <tr>\n",
              "      <th>max</th>\n",
              "      <td>1.000000</td>\n",
              "      <td>2.089189e+07</td>\n",
              "      <td>1530.000000</td>\n",
              "      <td>31.120000</td>\n",
              "      <td>117.000000</td>\n",
              "      <td>5054.000000</td>\n",
              "      <td>4.000000</td>\n",
              "      <td>2441.000000</td>\n",
              "      <td>25927.000000</td>\n",
              "      <td>1.000000</td>\n",
              "      <td>...</td>\n",
              "      <td>1.0</td>\n",
              "      <td>4924.000000</td>\n",
              "      <td>202.000000</td>\n",
              "      <td>102.000000</td>\n",
              "      <td>31.000000</td>\n",
              "      <td>12.000000</td>\n",
              "      <td>2021.0</td>\n",
              "      <td>31.000000</td>\n",
              "      <td>1970.0</td>\n",
              "      <td>18991.000000</td>\n",
              "    </tr>\n",
              "  </tbody>\n",
              "</table>\n",
              "<p>8 rows × 59 columns</p>\n",
              "</div>\n",
              "      <button class=\"colab-df-convert\" onclick=\"convertToInteractive('df-ab5869bb-6fdc-4f89-a28c-65a862187499')\"\n",
              "              title=\"Convert this dataframe to an interactive table.\"\n",
              "              style=\"display:none;\">\n",
              "        \n",
              "  <svg xmlns=\"http://www.w3.org/2000/svg\" height=\"24px\"viewBox=\"0 0 24 24\"\n",
              "       width=\"24px\">\n",
              "    <path d=\"M0 0h24v24H0V0z\" fill=\"none\"/>\n",
              "    <path d=\"M18.56 5.44l.94 2.06.94-2.06 2.06-.94-2.06-.94-.94-2.06-.94 2.06-2.06.94zm-11 1L8.5 8.5l.94-2.06 2.06-.94-2.06-.94L8.5 2.5l-.94 2.06-2.06.94zm10 10l.94 2.06.94-2.06 2.06-.94-2.06-.94-.94-2.06-.94 2.06-2.06.94z\"/><path d=\"M17.41 7.96l-1.37-1.37c-.4-.4-.92-.59-1.43-.59-.52 0-1.04.2-1.43.59L10.3 9.45l-7.72 7.72c-.78.78-.78 2.05 0 2.83L4 21.41c.39.39.9.59 1.41.59.51 0 1.02-.2 1.41-.59l7.78-7.78 2.81-2.81c.8-.78.8-2.07 0-2.86zM5.41 20L4 18.59l7.72-7.72 1.47 1.35L5.41 20z\"/>\n",
              "  </svg>\n",
              "      </button>\n",
              "      \n",
              "  <style>\n",
              "    .colab-df-container {\n",
              "      display:flex;\n",
              "      flex-wrap:wrap;\n",
              "      gap: 12px;\n",
              "    }\n",
              "\n",
              "    .colab-df-convert {\n",
              "      background-color: #E8F0FE;\n",
              "      border: none;\n",
              "      border-radius: 50%;\n",
              "      cursor: pointer;\n",
              "      display: none;\n",
              "      fill: #1967D2;\n",
              "      height: 32px;\n",
              "      padding: 0 0 0 0;\n",
              "      width: 32px;\n",
              "    }\n",
              "\n",
              "    .colab-df-convert:hover {\n",
              "      background-color: #E2EBFA;\n",
              "      box-shadow: 0px 1px 2px rgba(60, 64, 67, 0.3), 0px 1px 3px 1px rgba(60, 64, 67, 0.15);\n",
              "      fill: #174EA6;\n",
              "    }\n",
              "\n",
              "    [theme=dark] .colab-df-convert {\n",
              "      background-color: #3B4455;\n",
              "      fill: #D2E3FC;\n",
              "    }\n",
              "\n",
              "    [theme=dark] .colab-df-convert:hover {\n",
              "      background-color: #434B5C;\n",
              "      box-shadow: 0px 1px 3px 1px rgba(0, 0, 0, 0.15);\n",
              "      filter: drop-shadow(0px 1px 2px rgba(0, 0, 0, 0.3));\n",
              "      fill: #FFFFFF;\n",
              "    }\n",
              "  </style>\n",
              "\n",
              "      <script>\n",
              "        const buttonEl =\n",
              "          document.querySelector('#df-ab5869bb-6fdc-4f89-a28c-65a862187499 button.colab-df-convert');\n",
              "        buttonEl.style.display =\n",
              "          google.colab.kernel.accessAllowed ? 'block' : 'none';\n",
              "\n",
              "        async function convertToInteractive(key) {\n",
              "          const element = document.querySelector('#df-ab5869bb-6fdc-4f89-a28c-65a862187499');\n",
              "          const dataTable =\n",
              "            await google.colab.kernel.invokeFunction('convertToInteractive',\n",
              "                                                     [key], {});\n",
              "          if (!dataTable) return;\n",
              "\n",
              "          const docLinkHtml = 'Like what you see? Visit the ' +\n",
              "            '<a target=\"_blank\" href=https://colab.research.google.com/notebooks/data_table.ipynb>data table notebook</a>'\n",
              "            + ' to learn more about interactive tables.';\n",
              "          element.innerHTML = '';\n",
              "          dataTable['output_type'] = 'display_data';\n",
              "          await google.colab.output.renderOutput(dataTable, element);\n",
              "          const docLink = document.createElement('div');\n",
              "          docLink.innerHTML = docLinkHtml;\n",
              "          element.appendChild(docLink);\n",
              "        }\n",
              "      </script>\n",
              "    </div>\n",
              "  </div>\n",
              "  "
            ]
          },
          "metadata": {},
          "execution_count": 60
        }
      ]
    },
    {
      "cell_type": "code",
      "source": [
        "sns.violinplot(data['transaction_amount'])"
      ],
      "metadata": {
        "colab": {
          "base_uri": "https://localhost:8080/",
          "height": 297
        },
        "id": "71lEbDWJcp2L",
        "outputId": "17df21d3-f27f-4edc-cd39-186f4b47dae4"
      },
      "execution_count": 61,
      "outputs": [
        {
          "output_type": "execute_result",
          "data": {
            "text/plain": [
              "<matplotlib.axes._subplots.AxesSubplot at 0x7f248e456e20>"
            ]
          },
          "metadata": {},
          "execution_count": 61
        },
        {
          "output_type": "display_data",
          "data": {
            "text/plain": [
              "<Figure size 432x288 with 1 Axes>"
            ],
            "image/png": "[encoded data removed]"
          },
          "metadata": {
            "needs_background": "light"
          }
        }
      ]
    },
    {
      "cell_type": "code",
      "source": [
        "c = data.corr().abs().unstack().sort_values(kind=\"quicksort\").dropna(axis=0)\n",
        "c = c[c != 1]\n",
        "corr_cols = list(c['targets'].index.values)\n",
        "corr_cols.append('targets')\n",
        "len(corr_cols)"
      ],
      "metadata": {
        "colab": {
          "base_uri": "https://localhost:8080/"
        },
        "id": "NJTsErYj_ZeM",
        "outputId": "d5a19d2b-be35-43b2-f2d7-ff62d6b307c8"
      },
      "execution_count": 62,
      "outputs": [
        {
          "output_type": "execute_result",
          "data": {
            "text/plain": [
              "85"
            ]
          },
          "metadata": {},
          "execution_count": 62
        }
      ]
    },
    {
      "cell_type": "code",
      "source": [
        "# Only few columns are correlated with the target\n",
        "data = data[corr_cols]\n",
        "plt.figure(figsize=(20,1))\n",
        "sns.heatmap(data.corr()[-1:])"
      ],
      "metadata": {
        "colab": {
          "base_uri": "https://localhost:8080/",
          "height": 213
        },
        "id": "KSxI41tZD3US",
        "outputId": "c7478dd3-f86e-4c6d-b5c8-231e5c0c5da1"
      },
      "execution_count": 63,
      "outputs": [
        {
          "output_type": "execute_result",
          "data": {
            "text/plain": [
              "<matplotlib.axes._subplots.AxesSubplot at 0x7f248e4e1100>"
            ]
          },
          "metadata": {},
          "execution_count": 63
        },
        {
          "output_type": "display_data",
          "data": {
            "text/plain": [
              "<Figure size 1440x72 with 2 Axes>"
            ],
            "image/png": "[encoded data removed]"
          },
          "metadata": {
            "needs_background": "light"
          }
        }
      ]
    },
    {
      "cell_type": "code",
      "source": [
        "sns.histplot(data.targets)"
      ],
      "metadata": {
        "colab": {
          "base_uri": "https://localhost:8080/",
          "height": 296
        },
        "id": "32YCKvOxEhBP",
        "outputId": "3c0fd874-5453-4138-eb0f-f6e3343890b2"
      },
      "execution_count": 64,
      "outputs": [
        {
          "output_type": "execute_result",
          "data": {
            "text/plain": [
              "<matplotlib.axes._subplots.AxesSubplot at 0x7f248e492100>"
            ]
          },
          "metadata": {},
          "execution_count": 64
        },
        {
          "output_type": "display_data",
          "data": {
            "text/plain": [
              "<Figure size 432x288 with 1 Axes>"
            ],
            "image/png": "[encoded data removed]"
          },
          "metadata": {
            "needs_background": "light"
          }
        }
      ]
    },
    {
      "cell_type": "code",
      "source": [
        "X = data.drop('targets', axis=1)\n",
        "y = data['targets']\n",
        "# Highly imbalanced data, balancing\n",
        "oversampler = SMOTE(random_state=116, n_jobs=-1)\n",
        "X_s, y_s = oversampler.fit_resample(X,y)\n",
        "\n",
        "X_train, X_test, y_train, y_test = train_test_split(X_s, y_s, test_size=0.33, stratify=y_s, shuffle=True, random_state=116)\n",
        "sns.histplot(y_s)"
      ],
      "metadata": {
        "id": "NxzD-pXQH0HX",
        "colab": {
          "base_uri": "https://localhost:8080/",
          "height": 296
        },
        "outputId": "70e248f8-1eaf-4f29-bf05-88a88837c493"
      },
      "execution_count": 65,
      "outputs": [
        {
          "output_type": "execute_result",
          "data": {
            "text/plain": [
              "<matplotlib.axes._subplots.AxesSubplot at 0x7f248e2242b0>"
            ]
          },
          "metadata": {},
          "execution_count": 65
        },
        {
          "output_type": "display_data",
          "data": {
            "text/plain": [
              "<Figure size 432x288 with 1 Axes>"
            ],
            "image/png": "[encoded data removed]"
          },
          "metadata": {
            "needs_background": "light"
          }
        }
      ]
    },
    {
      "cell_type": "markdown",
      "source": [
        "# Model Training, Optimization and Evaluation"
      ],
      "metadata": {
        "id": "dHMXPkswKMC1"
      }
    },
    {
      "cell_type": "markdown",
      "source": [
        "2.\tDefine proper performance metrics and provide business and statistical rationales of your selections.  \n",
        "•\tWhy are these metrics appropriate? \n",
        "\n",
        "To define proper performance metrics, I would consider both business and statistical considerations. For example, I would use metrics such as precision, recall, and F1-score to evaluate the model's ability to accurately identify fraud while minimizing false positives. I would also use metrics such as the area under the receiver operating characteristic curve (AUC-ROC) to evaluate the model's overall performance. These metrics are appropriate because they take into account both the true positive rate and the false positive rate, which are important for balancing the costs and benefits of the fraud detection process."
      ],
      "metadata": {
        "id": "re-gisxufjEY"
      }
    },
    {
      "cell_type": "code",
      "source": [
        "def print_confusion_matrix(cf_matrix):\n",
        "  group_names = ['True Neg','False Pos','False Neg','True Pos']\n",
        "  group_counts = [\"{0:0.0f}\".format(value) for value in\n",
        "                cf_matrix.flatten()]\n",
        "  group_percentages = [\"{0:.2%}\".format(value) for value in\n",
        "                     cf_matrix.flatten()/np.sum(cf_matrix)]\n",
        "  labels = [f\"{v1}\\n{v2}\\n{v3}\" for v1, v2, v3 in\n",
        "            zip(group_names,group_counts,group_percentages)]\n",
        "  labels = np.asarray(labels).reshape(2,2)\n",
        "  plt.figure()\n",
        "  sns.heatmap(cf_matrix , annot=labels, fmt='', cmap='Blues', cbar=False)"
      ],
      "metadata": {
        "id": "R6MvxhUVZKmS"
      },
      "execution_count": 66,
      "outputs": []
    },
    {
      "cell_type": "markdown",
      "source": [
        "4.\tSet up an experimental framework and perform hyperparameter optimization.  \n",
        "•\tDoes your design lead to a good approximation to the performance in production in the future?\n",
        "\n",
        "To set up an experimental framework and perform hyperparameter optimization, I would use techniques such as cross-validation and grid search to test d hyperparameter settings. This design leads to a good approximation to the performance in production in the future because it allows me to evaluate the model's performance on unseen data and tune the model to achieve the best possible performance."
      ],
      "metadata": {
        "id": "o28tLk7BgeqS"
      }
    },
    {
      "cell_type": "markdown",
      "source": [
        "## XGBClassifier"
      ],
      "metadata": {
        "id": "w9B1rqz4KSbt"
      }
    },
    {
      "cell_type": "code",
      "source": [
        "param_dict = {'n_estimators':[600,800], 'max_depth':[6,8]}\n",
        "gs = GridSearchCV(XGBClassifier(), param_grid=param_dict, scoring='roc_auc', cv=5, n_jobs=-1, verbose=6, refit=True)\n",
        "gs.fit(X_train, y_train)\n",
        "print(f\"Best parameters are {gs.best_params_}\")\n",
        "print(f\"Best score is {gs.best_score_}\")"
      ],
      "metadata": {
        "id": "4NtqHcOIKCN0",
        "colab": {
          "base_uri": "https://localhost:8080/"
        },
        "outputId": "7b4d01f8-bf42-45e6-bb4c-faeca550a18a"
      },
      "execution_count": 67,
      "outputs": [
        {
          "output_type": "stream",
          "name": "stdout",
          "text": [
            "Fitting 5 folds for each of 4 candidates, totalling 20 fits\n",
            "Best parameters are {'max_depth': 6, 'n_estimators': 800}\n",
            "Best score is 0.9993124706307128\n"
          ]
        }
      ]
    },
    {
      "cell_type": "code",
      "source": [
        "roc_auc_score(y_test,gs.best_estimator_.predict_proba(X_test)[:,1])"
      ],
      "metadata": {
        "id": "HIc-Cb-YKXC8",
        "colab": {
          "base_uri": "https://localhost:8080/"
        },
        "outputId": "bee85b48-923a-4d27-fef3-3d165940133c"
      },
      "execution_count": 68,
      "outputs": [
        {
          "output_type": "execute_result",
          "data": {
            "text/plain": [
              "0.9992279268890802"
            ]
          },
          "metadata": {},
          "execution_count": 68
        }
      ]
    },
    {
      "cell_type": "code",
      "source": [
        "xgb = XGBClassifier(n_estimators=800,\n",
        "                    max_depth=8,\n",
        "                    learning_rate=0.1,\n",
        "                    gamma=0,\n",
        "                    reg_alpha=0,\n",
        "                    reg_lambda=1,\n",
        "                    n_jobs=-1)\n",
        "\n",
        "xgb.fit(X_train, y_train)\n",
        "\n",
        "xgb_predict_train = xgb.predict(X_train)\n",
        "xgb_predict_test = xgb.predict(X_test)\n",
        "\n",
        "print(f\"-------------Accuracy score----------------\")\n",
        "print(f\"Train score: {xgb.score(X_train, y_train)}\")\n",
        "print(f\"Test score: {xgb.score(X_test, y_test)}\")\n",
        "print(f\"-----------------f1_score------------------\")\n",
        "print(f\"Train f1 score: {f1_score(y_train, xgb_predict_train)}\")\n",
        "print(f\"Test f1 score: {f1_score(y_test, xgb_predict_test)}\")\n",
        "print(f\"-------------roc_auc_score------------------\")\n",
        "print(f\"Train roc_auc_score: {roc_auc_score(y_train, xgb.predict_proba(X_train)[:,1])}\")\n",
        "print(f\"Test roc_auc_score: {roc_auc_score(y_test, xgb.predict_proba(X_test)[:,1])}\")"
      ],
      "metadata": {
        "id": "kIEn2CmsU2JJ",
        "colab": {
          "base_uri": "https://localhost:8080/"
        },
        "outputId": "8fac4f29-1037-47d3-8b34-5405af3898e3"
      },
      "execution_count": 69,
      "outputs": [
        {
          "output_type": "stream",
          "name": "stdout",
          "text": [
            "-------------Accuracy score----------------\n",
            "Train score: 1.0\n",
            "Test score: 0.9895271671505599\n",
            "-----------------f1_score------------------\n",
            "Train f1 score: 1.0\n",
            "Test f1 score: 0.9895021307556388\n",
            "-------------roc_auc_score------------------\n",
            "Train roc_auc_score: 1.0\n",
            "Test roc_auc_score: 0.9992505058988415\n"
          ]
        }
      ]
    },
    {
      "cell_type": "markdown",
      "source": [
        "5.\tPerform a post-modeling analysis to convince the interviewers about the usability of your model.  \n",
        "•\tWhat is the model performance?\n",
        "•\tWhat are the key features that drives the predictions?\n",
        "•\tWhat threshold do you propose to use for the model and why?\n",
        "\n",
        "To perform a post-modeling analysis, I would use techniques such as feature importance analysis and threshold optimization to evaluate the model's performance and identify the key features that drive the predictions. I would also report the model's overall performance using metrics such as precision, recall, and F1-score. To determine the threshold for the model, I would consider the costs and benefits of false positives and false negatives and choose a threshold that balances these costs and benefits."
      ],
      "metadata": {
        "id": "heWnumhQiaxe"
      }
    },
    {
      "cell_type": "code",
      "source": [
        "print_confusion_matrix(confusion_matrix(xgb_predict_test, y_test))"
      ],
      "metadata": {
        "id": "NJUntk2MVCaG",
        "colab": {
          "base_uri": "https://localhost:8080/",
          "height": 265
        },
        "outputId": "6612c76a-ff22-409e-f836-7c92bdf2b110"
      },
      "execution_count": 70,
      "outputs": [
        {
          "output_type": "display_data",
          "data": {
            "text/plain": [
              "<Figure size 432x288 with 1 Axes>"
            ],
            "image/png": "[encoded data removed]"
          },
          "metadata": {
            "needs_background": "light"
          }
        }
      ]
    },
    {
      "cell_type": "code",
      "source": [
        "print(classification_report(y_test, xgb_predict_test))"
      ],
      "metadata": {
        "id": "fAvNmQtshBEs",
        "colab": {
          "base_uri": "https://localhost:8080/"
        },
        "outputId": "c2de4fca-2d61-40f1-a776-0b8e397441f2"
      },
      "execution_count": 71,
      "outputs": [
        {
          "output_type": "stream",
          "name": "stdout",
          "text": [
            "              precision    recall  f1-score   support\n",
            "\n",
            "           0       0.99      0.99      0.99      4822\n",
            "           1       0.99      0.99      0.99      4822\n",
            "\n",
            "    accuracy                           0.99      9644\n",
            "   macro avg       0.99      0.99      0.99      9644\n",
            "weighted avg       0.99      0.99      0.99      9644\n",
            "\n"
          ]
        }
      ]
    },
    {
      "cell_type": "code",
      "source": [
        "# Top 10 Important features\n",
        "pd.Series(xgb.feature_importances_, index=X.columns).sort_values(ascending=False)[:10]"
      ],
      "metadata": {
        "id": "RR_8WGcKaLGo",
        "colab": {
          "base_uri": "https://localhost:8080/"
        },
        "outputId": "272fcb45-63b3-42af-b4f5-539b06abe78f"
      },
      "execution_count": 72,
      "outputs": [
        {
          "output_type": "execute_result",
          "data": {
            "text/plain": [
              "col_111    0.421203\n",
              "col_16     0.075552\n",
              "col_60     0.044264\n",
              "col_35     0.033254\n",
              "col_110    0.030258\n",
              "col_56     0.028812\n",
              "col_102    0.017374\n",
              "col_57     0.015896\n",
              "col_53     0.015723\n",
              "col_34     0.015568\n",
              "dtype: float32"
            ]
          },
          "metadata": {},
          "execution_count": 72
        }
      ]
    }
  ]
}